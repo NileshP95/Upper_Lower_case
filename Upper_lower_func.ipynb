{
 "cells": [
  {
   "cell_type": "markdown",
   "id": "94a48081",
   "metadata": {},
   "source": [
    "# Write a Python function that accepts a string and calculate the number of upper case letters and lower case letters.\n",
    "\n",
    "\n",
    "\n",
    "﻿Sample String : 'The quick Brow Fox'\n",
    "\n",
    "Expected Output :\n",
    "\n",
    "No. of Upper case characters : 3\n",
    "\n",
    "No. of Lower case Characters : 12\n",
    "\n"
   ]
  },
  {
   "cell_type": "code",
   "execution_count": 4,
   "id": "69ca6ea4",
   "metadata": {},
   "outputs": [
    {
     "name": "stdout",
     "output_type": "stream",
     "text": [
      "Original String The quick Brow Fox\n",
      "Total uppercase letters: 3\n",
      "Total lowercase letters: 12\n"
     ]
    }
   ],
   "source": [
    "def upper_lower(s):\n",
    "    UpperCase=0\n",
    "    LowerCase=0\n",
    "    for x in s:\n",
    "        if x.isupper():\n",
    "            UpperCase +=1\n",
    "        elif x.islower():\n",
    "            LowerCase +=1\n",
    "        else:\n",
    "            pass\n",
    "    #return (UpperCase,LowerCase)\n",
    "    print(\"Original String\",s)\n",
    "    print(\"Total uppercase letters:\",UpperCase)\n",
    "    print(\"Total lowercase letters:\",LowerCase)\n",
    "upper_lower(\"The quick Brow Fox\")"
   ]
  }
 ],
 "metadata": {
  "kernelspec": {
   "display_name": "Python 3 (ipykernel)",
   "language": "python",
   "name": "python3"
  },
  "language_info": {
   "codemirror_mode": {
    "name": "ipython",
    "version": 3
   },
   "file_extension": ".py",
   "mimetype": "text/x-python",
   "name": "python",
   "nbconvert_exporter": "python",
   "pygments_lexer": "ipython3",
   "version": "3.8.10"
  }
 },
 "nbformat": 4,
 "nbformat_minor": 5
}
